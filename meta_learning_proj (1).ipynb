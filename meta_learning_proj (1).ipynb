{
  "nbformat": 4,
  "nbformat_minor": 0,
  "metadata": {
    "colab": {
      "provenance": []
    },
    "kernelspec": {
      "name": "python3",
      "display_name": "Python 3"
    },
    "language_info": {
      "name": "python"
    },
    "widgets": {
      "application/vnd.jupyter.widget-state+json": {
        "6187b2e89256417983ca7e69fbd60b55": {
          "model_module": "@jupyter-widgets/controls",
          "model_name": "HBoxModel",
          "model_module_version": "1.5.0",
          "state": {
            "_dom_classes": [],
            "_model_module": "@jupyter-widgets/controls",
            "_model_module_version": "1.5.0",
            "_model_name": "HBoxModel",
            "_view_count": null,
            "_view_module": "@jupyter-widgets/controls",
            "_view_module_version": "1.5.0",
            "_view_name": "HBoxView",
            "box_style": "",
            "children": [
              "IPY_MODEL_57fe1afa524a4f1d956c2ea13bd6fcb0",
              "IPY_MODEL_199d1d9830a14503ab3527ba3e057c0a",
              "IPY_MODEL_79fe004a7f304fd9b4aa0c18dae4f1e1"
            ],
            "layout": "IPY_MODEL_1d9eb73069b6423cb84186faf7810ff0"
          }
        },
        "57fe1afa524a4f1d956c2ea13bd6fcb0": {
          "model_module": "@jupyter-widgets/controls",
          "model_name": "HTMLModel",
          "model_module_version": "1.5.0",
          "state": {
            "_dom_classes": [],
            "_model_module": "@jupyter-widgets/controls",
            "_model_module_version": "1.5.0",
            "_model_name": "HTMLModel",
            "_view_count": null,
            "_view_module": "@jupyter-widgets/controls",
            "_view_module_version": "1.5.0",
            "_view_name": "HTMLView",
            "description": "",
            "description_tooltip": null,
            "layout": "IPY_MODEL_773547f3689148d3abfd2007ccc230de",
            "placeholder": "​",
            "style": "IPY_MODEL_79ceef0f99a847889987276e66579e71",
            "value": "Optimization Progress: 100%"
          }
        },
        "199d1d9830a14503ab3527ba3e057c0a": {
          "model_module": "@jupyter-widgets/controls",
          "model_name": "FloatProgressModel",
          "model_module_version": "1.5.0",
          "state": {
            "_dom_classes": [],
            "_model_module": "@jupyter-widgets/controls",
            "_model_module_version": "1.5.0",
            "_model_name": "FloatProgressModel",
            "_view_count": null,
            "_view_module": "@jupyter-widgets/controls",
            "_view_module_version": "1.5.0",
            "_view_name": "ProgressView",
            "bar_style": "",
            "description": "",
            "description_tooltip": null,
            "layout": "IPY_MODEL_c19d18a09c1f458aa5b392e6a67b0592",
            "max": 50,
            "min": 0,
            "orientation": "horizontal",
            "style": "IPY_MODEL_d6087a0f74c14f3aa17334be9412bb5f",
            "value": 50
          }
        },
        "79fe004a7f304fd9b4aa0c18dae4f1e1": {
          "model_module": "@jupyter-widgets/controls",
          "model_name": "HTMLModel",
          "model_module_version": "1.5.0",
          "state": {
            "_dom_classes": [],
            "_model_module": "@jupyter-widgets/controls",
            "_model_module_version": "1.5.0",
            "_model_name": "HTMLModel",
            "_view_count": null,
            "_view_module": "@jupyter-widgets/controls",
            "_view_module_version": "1.5.0",
            "_view_name": "HTMLView",
            "description": "",
            "description_tooltip": null,
            "layout": "IPY_MODEL_770b1ebdae3d47f38259fc74fb3a90f3",
            "placeholder": "​",
            "style": "IPY_MODEL_54000111961c4ab88cd7a5fce45a0d2c",
            "value": " 550/550 [06:06&lt;00:00,  1.61pipeline/s]"
          }
        },
        "1d9eb73069b6423cb84186faf7810ff0": {
          "model_module": "@jupyter-widgets/base",
          "model_name": "LayoutModel",
          "model_module_version": "1.2.0",
          "state": {
            "_model_module": "@jupyter-widgets/base",
            "_model_module_version": "1.2.0",
            "_model_name": "LayoutModel",
            "_view_count": null,
            "_view_module": "@jupyter-widgets/base",
            "_view_module_version": "1.2.0",
            "_view_name": "LayoutView",
            "align_content": null,
            "align_items": null,
            "align_self": null,
            "border": null,
            "bottom": null,
            "display": null,
            "flex": null,
            "flex_flow": null,
            "grid_area": null,
            "grid_auto_columns": null,
            "grid_auto_flow": null,
            "grid_auto_rows": null,
            "grid_column": null,
            "grid_gap": null,
            "grid_row": null,
            "grid_template_areas": null,
            "grid_template_columns": null,
            "grid_template_rows": null,
            "height": null,
            "justify_content": null,
            "justify_items": null,
            "left": null,
            "margin": null,
            "max_height": null,
            "max_width": null,
            "min_height": null,
            "min_width": null,
            "object_fit": null,
            "object_position": null,
            "order": null,
            "overflow": null,
            "overflow_x": null,
            "overflow_y": null,
            "padding": null,
            "right": null,
            "top": null,
            "visibility": "hidden",
            "width": null
          }
        },
        "773547f3689148d3abfd2007ccc230de": {
          "model_module": "@jupyter-widgets/base",
          "model_name": "LayoutModel",
          "model_module_version": "1.2.0",
          "state": {
            "_model_module": "@jupyter-widgets/base",
            "_model_module_version": "1.2.0",
            "_model_name": "LayoutModel",
            "_view_count": null,
            "_view_module": "@jupyter-widgets/base",
            "_view_module_version": "1.2.0",
            "_view_name": "LayoutView",
            "align_content": null,
            "align_items": null,
            "align_self": null,
            "border": null,
            "bottom": null,
            "display": null,
            "flex": null,
            "flex_flow": null,
            "grid_area": null,
            "grid_auto_columns": null,
            "grid_auto_flow": null,
            "grid_auto_rows": null,
            "grid_column": null,
            "grid_gap": null,
            "grid_row": null,
            "grid_template_areas": null,
            "grid_template_columns": null,
            "grid_template_rows": null,
            "height": null,
            "justify_content": null,
            "justify_items": null,
            "left": null,
            "margin": null,
            "max_height": null,
            "max_width": null,
            "min_height": null,
            "min_width": null,
            "object_fit": null,
            "object_position": null,
            "order": null,
            "overflow": null,
            "overflow_x": null,
            "overflow_y": null,
            "padding": null,
            "right": null,
            "top": null,
            "visibility": null,
            "width": null
          }
        },
        "79ceef0f99a847889987276e66579e71": {
          "model_module": "@jupyter-widgets/controls",
          "model_name": "DescriptionStyleModel",
          "model_module_version": "1.5.0",
          "state": {
            "_model_module": "@jupyter-widgets/controls",
            "_model_module_version": "1.5.0",
            "_model_name": "DescriptionStyleModel",
            "_view_count": null,
            "_view_module": "@jupyter-widgets/base",
            "_view_module_version": "1.2.0",
            "_view_name": "StyleView",
            "description_width": ""
          }
        },
        "c19d18a09c1f458aa5b392e6a67b0592": {
          "model_module": "@jupyter-widgets/base",
          "model_name": "LayoutModel",
          "model_module_version": "1.2.0",
          "state": {
            "_model_module": "@jupyter-widgets/base",
            "_model_module_version": "1.2.0",
            "_model_name": "LayoutModel",
            "_view_count": null,
            "_view_module": "@jupyter-widgets/base",
            "_view_module_version": "1.2.0",
            "_view_name": "LayoutView",
            "align_content": null,
            "align_items": null,
            "align_self": null,
            "border": null,
            "bottom": null,
            "display": null,
            "flex": null,
            "flex_flow": null,
            "grid_area": null,
            "grid_auto_columns": null,
            "grid_auto_flow": null,
            "grid_auto_rows": null,
            "grid_column": null,
            "grid_gap": null,
            "grid_row": null,
            "grid_template_areas": null,
            "grid_template_columns": null,
            "grid_template_rows": null,
            "height": null,
            "justify_content": null,
            "justify_items": null,
            "left": null,
            "margin": null,
            "max_height": null,
            "max_width": null,
            "min_height": null,
            "min_width": null,
            "object_fit": null,
            "object_position": null,
            "order": null,
            "overflow": null,
            "overflow_x": null,
            "overflow_y": null,
            "padding": null,
            "right": null,
            "top": null,
            "visibility": null,
            "width": null
          }
        },
        "d6087a0f74c14f3aa17334be9412bb5f": {
          "model_module": "@jupyter-widgets/controls",
          "model_name": "ProgressStyleModel",
          "model_module_version": "1.5.0",
          "state": {
            "_model_module": "@jupyter-widgets/controls",
            "_model_module_version": "1.5.0",
            "_model_name": "ProgressStyleModel",
            "_view_count": null,
            "_view_module": "@jupyter-widgets/base",
            "_view_module_version": "1.2.0",
            "_view_name": "StyleView",
            "bar_color": null,
            "description_width": ""
          }
        },
        "770b1ebdae3d47f38259fc74fb3a90f3": {
          "model_module": "@jupyter-widgets/base",
          "model_name": "LayoutModel",
          "model_module_version": "1.2.0",
          "state": {
            "_model_module": "@jupyter-widgets/base",
            "_model_module_version": "1.2.0",
            "_model_name": "LayoutModel",
            "_view_count": null,
            "_view_module": "@jupyter-widgets/base",
            "_view_module_version": "1.2.0",
            "_view_name": "LayoutView",
            "align_content": null,
            "align_items": null,
            "align_self": null,
            "border": null,
            "bottom": null,
            "display": null,
            "flex": null,
            "flex_flow": null,
            "grid_area": null,
            "grid_auto_columns": null,
            "grid_auto_flow": null,
            "grid_auto_rows": null,
            "grid_column": null,
            "grid_gap": null,
            "grid_row": null,
            "grid_template_areas": null,
            "grid_template_columns": null,
            "grid_template_rows": null,
            "height": null,
            "justify_content": null,
            "justify_items": null,
            "left": null,
            "margin": null,
            "max_height": null,
            "max_width": null,
            "min_height": null,
            "min_width": null,
            "object_fit": null,
            "object_position": null,
            "order": null,
            "overflow": null,
            "overflow_x": null,
            "overflow_y": null,
            "padding": null,
            "right": null,
            "top": null,
            "visibility": null,
            "width": null
          }
        },
        "54000111961c4ab88cd7a5fce45a0d2c": {
          "model_module": "@jupyter-widgets/controls",
          "model_name": "DescriptionStyleModel",
          "model_module_version": "1.5.0",
          "state": {
            "_model_module": "@jupyter-widgets/controls",
            "_model_module_version": "1.5.0",
            "_model_name": "DescriptionStyleModel",
            "_view_count": null,
            "_view_module": "@jupyter-widgets/base",
            "_view_module_version": "1.2.0",
            "_view_name": "StyleView",
            "description_width": ""
          }
        }
      }
    }
  },
  "cells": [
    {
      "cell_type": "code",
      "source": [
        "pip install tpot h2o scikit-learn pandas numpy\n"
      ],
      "metadata": {
        "colab": {
          "base_uri": "https://localhost:8080/"
        },
        "id": "y4k9EpkcFxLX",
        "outputId": "948d9dc4-83c6-4ccf-b5fc-edb56abc8204"
      },
      "execution_count": 12,
      "outputs": [
        {
          "output_type": "stream",
          "name": "stdout",
          "text": [
            "Requirement already satisfied: tpot in /usr/local/lib/python3.10/dist-packages (0.12.2)\n",
            "Requirement already satisfied: h2o in /usr/local/lib/python3.10/dist-packages (3.46.0.5)\n",
            "Requirement already satisfied: scikit-learn in /usr/local/lib/python3.10/dist-packages (1.5.2)\n",
            "Requirement already satisfied: pandas in /usr/local/lib/python3.10/dist-packages (2.2.2)\n",
            "Requirement already satisfied: numpy in /usr/local/lib/python3.10/dist-packages (1.26.4)\n",
            "Requirement already satisfied: scipy>=1.3.1 in /usr/local/lib/python3.10/dist-packages (from tpot) (1.13.1)\n",
            "Requirement already satisfied: deap>=1.2 in /usr/local/lib/python3.10/dist-packages (from tpot) (1.4.1)\n",
            "Requirement already satisfied: update-checker>=0.16 in /usr/local/lib/python3.10/dist-packages (from tpot) (0.18.0)\n",
            "Requirement already satisfied: tqdm>=4.36.1 in /usr/local/lib/python3.10/dist-packages (from tpot) (4.66.5)\n",
            "Requirement already satisfied: stopit>=1.1.1 in /usr/local/lib/python3.10/dist-packages (from tpot) (1.1.2)\n",
            "Requirement already satisfied: joblib>=0.13.2 in /usr/local/lib/python3.10/dist-packages (from tpot) (1.4.2)\n",
            "Requirement already satisfied: xgboost>=1.1.0 in /usr/local/lib/python3.10/dist-packages (from tpot) (2.1.1)\n",
            "Requirement already satisfied: requests in /usr/local/lib/python3.10/dist-packages (from h2o) (2.32.3)\n",
            "Requirement already satisfied: tabulate in /usr/local/lib/python3.10/dist-packages (from h2o) (0.9.0)\n",
            "Requirement already satisfied: threadpoolctl>=3.1.0 in /usr/local/lib/python3.10/dist-packages (from scikit-learn) (3.5.0)\n",
            "Requirement already satisfied: python-dateutil>=2.8.2 in /usr/local/lib/python3.10/dist-packages (from pandas) (2.8.2)\n",
            "Requirement already satisfied: pytz>=2020.1 in /usr/local/lib/python3.10/dist-packages (from pandas) (2024.2)\n",
            "Requirement already satisfied: tzdata>=2022.7 in /usr/local/lib/python3.10/dist-packages (from pandas) (2024.2)\n",
            "Requirement already satisfied: six>=1.5 in /usr/local/lib/python3.10/dist-packages (from python-dateutil>=2.8.2->pandas) (1.16.0)\n",
            "Requirement already satisfied: charset-normalizer<4,>=2 in /usr/local/lib/python3.10/dist-packages (from requests->h2o) (3.4.0)\n",
            "Requirement already satisfied: idna<4,>=2.5 in /usr/local/lib/python3.10/dist-packages (from requests->h2o) (3.10)\n",
            "Requirement already satisfied: urllib3<3,>=1.21.1 in /usr/local/lib/python3.10/dist-packages (from requests->h2o) (2.2.3)\n",
            "Requirement already satisfied: certifi>=2017.4.17 in /usr/local/lib/python3.10/dist-packages (from requests->h2o) (2024.8.30)\n",
            "Requirement already satisfied: nvidia-nccl-cu12 in /usr/local/lib/python3.10/dist-packages (from xgboost>=1.1.0->tpot) (2.23.4)\n"
          ]
        }
      ]
    },
    {
      "cell_type": "code",
      "source": [
        "import pandas as pd\n",
        "\n",
        "# Load the Heart Disease dataset\n",
        "url = 'https://archive.ics.uci.edu/ml/machine-learning-databases/heart-disease/processed.cleveland.data'\n",
        "columns = [\n",
        "    'age', 'sex', 'cp', 'trestbps', 'chol', 'fbs', 'restecg',\n",
        "    'thalach', 'exang', 'oldpeak', 'slope', 'ca', 'thal', 'target'\n",
        "]\n",
        "data = pd.read_csv(url, names=columns)\n",
        "\n",
        "# Replace '?' with NaN and drop missing values\n",
        "data = data.replace('?', pd.NA).dropna()\n",
        "\n",
        "# Separate features (X) and target (y)\n",
        "X = data.iloc[:, :-1]\n",
        "y = (data['target'] > 0).astype(int)  # 0: No disease, 1: Disease present\n",
        "# Target is 0 (no disease) or 1+ (presence of disease)\n"
      ],
      "metadata": {
        "id": "MYyu6fTMBNfW"
      },
      "execution_count": 13,
      "outputs": []
    },
    {
      "cell_type": "code",
      "source": [
        "from sklearn.model_selection import train_test_split\n",
        "\n",
        "X_train, X_test, y_train, y_test = train_test_split(X, y, test_size=0.2, random_state=42)\n"
      ],
      "metadata": {
        "id": "gtzNT0UXCJ2a"
      },
      "execution_count": 14,
      "outputs": []
    },
    {
      "cell_type": "code",
      "source": [
        "from tpot import TPOTClassifier\n",
        "\n",
        "# Initialize TPOT with evolutionary algorithm settings\n",
        "tpot = TPOTClassifier(\n",
        "    generations=10,\n",
        "    population_size=50,\n",
        "    max_time_mins=30,  # Limits total run time to 30 minutes\n",
        "    verbosity=2,\n",
        "    random_state=42\n",
        ")\n",
        "tpot.fit(X_train, y_train)\n",
        "\n",
        "# Print the best model pipeline\n",
        "print(f\"Best Pipeline: {tpot.fitted_pipeline_}\")\n",
        "\n",
        "# Evaluate performance on the test set\n",
        "test_score = tpot.score(X_test, y_test)\n",
        "print(f\"Test Accuracy: {test_score:.4f}\")\n",
        "\n",
        "# Export the best pipeline to a Python script\n",
        "tpot.export('best_heart_disease_pipeline.py')\n"
      ],
      "metadata": {
        "colab": {
          "base_uri": "https://localhost:8080/",
          "height": 627,
          "referenced_widgets": [
            "6187b2e89256417983ca7e69fbd60b55",
            "57fe1afa524a4f1d956c2ea13bd6fcb0",
            "199d1d9830a14503ab3527ba3e057c0a",
            "79fe004a7f304fd9b4aa0c18dae4f1e1",
            "1d9eb73069b6423cb84186faf7810ff0",
            "773547f3689148d3abfd2007ccc230de",
            "79ceef0f99a847889987276e66579e71",
            "c19d18a09c1f458aa5b392e6a67b0592",
            "d6087a0f74c14f3aa17334be9412bb5f",
            "770b1ebdae3d47f38259fc74fb3a90f3",
            "54000111961c4ab88cd7a5fce45a0d2c"
          ]
        },
        "id": "37occDCCCRbG",
        "outputId": "bfccd780-7a4e-498c-dc8b-f0d5361ee0d3"
      },
      "execution_count": 15,
      "outputs": [
        {
          "output_type": "display_data",
          "data": {
            "text/plain": [
              "Optimization Progress:   0%|          | 0/50 [00:00<?, ?pipeline/s]"
            ],
            "application/vnd.jupyter.widget-view+json": {
              "version_major": 2,
              "version_minor": 0,
              "model_id": "6187b2e89256417983ca7e69fbd60b55"
            }
          },
          "metadata": {}
        },
        {
          "output_type": "stream",
          "name": "stdout",
          "text": [
            "\n",
            "Generation 1 - Current best internal CV score: 0.8311170212765958\n",
            "\n",
            "Generation 2 - Current best internal CV score: 0.8311170212765958\n",
            "\n",
            "Generation 3 - Current best internal CV score: 0.8311170212765958\n",
            "\n",
            "Generation 4 - Current best internal CV score: 0.8352836879432625\n",
            "\n",
            "Generation 5 - Current best internal CV score: 0.839450354609929\n",
            "\n",
            "Generation 6 - Current best internal CV score: 0.839450354609929\n",
            "\n",
            "Generation 7 - Current best internal CV score: 0.839450354609929\n",
            "\n",
            "Generation 8 - Current best internal CV score: 0.839450354609929\n",
            "\n",
            "Generation 9 - Current best internal CV score: 0.839450354609929\n",
            "\n",
            "Generation 10 - Current best internal CV score: 0.839450354609929\n",
            "\n",
            "Best pipeline: ExtraTreesClassifier(ZeroCount(GaussianNB(input_matrix)), bootstrap=False, criterion=gini, max_features=0.7000000000000001, min_samples_leaf=4, min_samples_split=7, n_estimators=100)\n",
            "Best Pipeline: Pipeline(steps=[('stackingestimator',\n",
            "                 StackingEstimator(estimator=GaussianNB())),\n",
            "                ('zerocount', ZeroCount()),\n",
            "                ('extratreesclassifier',\n",
            "                 ExtraTreesClassifier(max_features=0.7000000000000001,\n",
            "                                      min_samples_leaf=4, min_samples_split=7,\n",
            "                                      random_state=42))])\n",
            "Test Accuracy: 0.8833\n"
          ]
        },
        {
          "output_type": "stream",
          "name": "stderr",
          "text": [
            "/usr/local/lib/python3.10/dist-packages/sklearn/base.py:493: UserWarning: X does not have valid feature names, but GaussianNB was fitted with feature names\n",
            "  warnings.warn(\n",
            "/usr/local/lib/python3.10/dist-packages/sklearn/base.py:493: UserWarning: X does not have valid feature names, but GaussianNB was fitted with feature names\n",
            "  warnings.warn(\n"
          ]
        }
      ]
    },
    {
      "cell_type": "code",
      "source": [
        "import h2o\n",
        "from h2o.automl import H2OAutoML\n",
        "\n",
        "h2o.init()\n",
        "\n",
        "# Convert Pandas DataFrame to H2OFrame\n",
        "data_h2o = h2o.H2OFrame(data)\n",
        "X_cols = data_h2o.columns[:-1]\n",
        "y_col = 'target'\n",
        "\n",
        "# Train AutoML with a maximum of 20 models\n",
        "aml = H2OAutoML(max_models=20, seed=42)\n",
        "aml.train(x=X_cols, y=y_col, training_frame=data_h2o)\n",
        "\n",
        "# Display the leaderboard and the best model\n",
        "print(aml.leaderboard)\n",
        "print(\"Best Model:\", aml.leader)\n",
        "\n"
      ],
      "metadata": {
        "colab": {
          "base_uri": "https://localhost:8080/",
          "height": 1000
        },
        "id": "DvanUBkMCs9W",
        "outputId": "3085021a-e311-4cba-e872-85f6656678a4"
      },
      "execution_count": 19,
      "outputs": [
        {
          "output_type": "stream",
          "name": "stdout",
          "text": [
            "Checking whether there is an H2O instance running at http://localhost:54321..... not found.\n",
            "Attempting to start a local H2O server...\n",
            "  Java Version: openjdk version \"11.0.24\" 2024-07-16; OpenJDK Runtime Environment (build 11.0.24+8-post-Ubuntu-1ubuntu322.04); OpenJDK 64-Bit Server VM (build 11.0.24+8-post-Ubuntu-1ubuntu322.04, mixed mode, sharing)\n",
            "  Starting server from /usr/local/lib/python3.10/dist-packages/h2o/backend/bin/h2o.jar\n",
            "  Ice root: /tmp/tmp9pzuv49u\n",
            "  JVM stdout: /tmp/tmp9pzuv49u/h2o_unknownUser_started_from_python.out\n",
            "  JVM stderr: /tmp/tmp9pzuv49u/h2o_unknownUser_started_from_python.err\n",
            "  Server is running at http://127.0.0.1:54321\n",
            "Connecting to H2O server at http://127.0.0.1:54321 ... successful.\n"
          ]
        },
        {
          "output_type": "display_data",
          "data": {
            "text/plain": [
              "--------------------------  -----------------------------------------------------------------------------------------\n",
              "H2O_cluster_uptime:         06 secs\n",
              "H2O_cluster_timezone:       Etc/UTC\n",
              "H2O_data_parsing_timezone:  UTC\n",
              "H2O_cluster_version:        3.46.0.5\n",
              "H2O_cluster_version_age:    1 month and 18 days\n",
              "H2O_cluster_name:           H2O_from_python_unknownUser_iri656\n",
              "H2O_cluster_total_nodes:    1\n",
              "H2O_cluster_free_memory:    3.170 Gb\n",
              "H2O_cluster_total_cores:    2\n",
              "H2O_cluster_allowed_cores:  2\n",
              "H2O_cluster_status:         locked, healthy\n",
              "H2O_connection_url:         http://127.0.0.1:54321\n",
              "H2O_connection_proxy:       {\"http\": null, \"https\": null, \"colab_language_server\": \"/usr/colab/bin/language_service\"}\n",
              "H2O_internal_security:      False\n",
              "Python_version:             3.10.12 final\n",
              "--------------------------  -----------------------------------------------------------------------------------------"
            ],
            "text/html": [
              "\n",
              "<style>\n",
              "\n",
              "#h2o-table-3.h2o-container {\n",
              "  overflow-x: auto;\n",
              "}\n",
              "#h2o-table-3 .h2o-table {\n",
              "  /* width: 100%; */\n",
              "  margin-top: 1em;\n",
              "  margin-bottom: 1em;\n",
              "}\n",
              "#h2o-table-3 .h2o-table caption {\n",
              "  white-space: nowrap;\n",
              "  caption-side: top;\n",
              "  text-align: left;\n",
              "  /* margin-left: 1em; */\n",
              "  margin: 0;\n",
              "  font-size: larger;\n",
              "}\n",
              "#h2o-table-3 .h2o-table thead {\n",
              "  white-space: nowrap; \n",
              "  position: sticky;\n",
              "  top: 0;\n",
              "  box-shadow: 0 -1px inset;\n",
              "}\n",
              "#h2o-table-3 .h2o-table tbody {\n",
              "  overflow: auto;\n",
              "}\n",
              "#h2o-table-3 .h2o-table th,\n",
              "#h2o-table-3 .h2o-table td {\n",
              "  text-align: right;\n",
              "  /* border: 1px solid; */\n",
              "}\n",
              "#h2o-table-3 .h2o-table tr:nth-child(even) {\n",
              "  /* background: #F5F5F5 */\n",
              "}\n",
              "\n",
              "</style>      \n",
              "<div id=\"h2o-table-3\" class=\"h2o-container\">\n",
              "  <table class=\"h2o-table\">\n",
              "    <caption></caption>\n",
              "    <thead></thead>\n",
              "    <tbody><tr><td>H2O_cluster_uptime:</td>\n",
              "<td>06 secs</td></tr>\n",
              "<tr><td>H2O_cluster_timezone:</td>\n",
              "<td>Etc/UTC</td></tr>\n",
              "<tr><td>H2O_data_parsing_timezone:</td>\n",
              "<td>UTC</td></tr>\n",
              "<tr><td>H2O_cluster_version:</td>\n",
              "<td>3.46.0.5</td></tr>\n",
              "<tr><td>H2O_cluster_version_age:</td>\n",
              "<td>1 month and 18 days</td></tr>\n",
              "<tr><td>H2O_cluster_name:</td>\n",
              "<td>H2O_from_python_unknownUser_iri656</td></tr>\n",
              "<tr><td>H2O_cluster_total_nodes:</td>\n",
              "<td>1</td></tr>\n",
              "<tr><td>H2O_cluster_free_memory:</td>\n",
              "<td>3.170 Gb</td></tr>\n",
              "<tr><td>H2O_cluster_total_cores:</td>\n",
              "<td>2</td></tr>\n",
              "<tr><td>H2O_cluster_allowed_cores:</td>\n",
              "<td>2</td></tr>\n",
              "<tr><td>H2O_cluster_status:</td>\n",
              "<td>locked, healthy</td></tr>\n",
              "<tr><td>H2O_connection_url:</td>\n",
              "<td>http://127.0.0.1:54321</td></tr>\n",
              "<tr><td>H2O_connection_proxy:</td>\n",
              "<td>{\"http\": null, \"https\": null, \"colab_language_server\": \"/usr/colab/bin/language_service\"}</td></tr>\n",
              "<tr><td>H2O_internal_security:</td>\n",
              "<td>False</td></tr>\n",
              "<tr><td>Python_version:</td>\n",
              "<td>3.10.12 final</td></tr></tbody>\n",
              "  </table>\n",
              "</div>\n"
            ]
          },
          "metadata": {}
        },
        {
          "output_type": "stream",
          "name": "stdout",
          "text": [
            "Parse progress: |████████████████████████████████████████████████████████████████| (done) 100%\n",
            "AutoML progress: |███████████████████████████████████████████████████████████████| (done) 100%\n",
            "model_id                                                     rmse       mse       mae     rmsle    mean_residual_deviance\n",
            "StackedEnsemble_BestOfFamily_1_AutoML_1_20241017_154637  0.852753  0.727188  0.632011  0.397607                  0.727188\n",
            "GLM_1_AutoML_1_20241017_154637                           0.861485  0.742156  0.65195   0.4139                    0.742156\n",
            "StackedEnsemble_AllModels_1_AutoML_1_20241017_154637     0.862491  0.743891  0.6409    0.402765                  0.743891\n",
            "DRF_1_AutoML_1_20241017_154637                           0.870549  0.757856  0.626854  0.398821                  0.757856\n",
            "GBM_4_AutoML_1_20241017_154637                           0.872888  0.761934  0.631845  0.39408                   0.761934\n",
            "GBM_2_AutoML_1_20241017_154637                           0.874886  0.765426  0.62811   0.395709                  0.765426\n",
            "GBM_3_AutoML_1_20241017_154637                           0.894831  0.800722  0.64406   0.401966                  0.800722\n",
            "XRT_1_AutoML_1_20241017_154637                           0.896953  0.804524  0.661119  0.418909                  0.804524\n",
            "GBM_grid_1_AutoML_1_20241017_154637_model_1              0.90214   0.813856  0.640172  0.413295                  0.813856\n",
            "GBM_grid_1_AutoML_1_20241017_154637_model_2              0.908404  0.825198  0.642466  0.410993                  0.825198\n",
            "[22 rows x 6 columns]\n",
            "\n",
            "Best Model: Model Details\n",
            "=============\n",
            "H2OStackedEnsembleEstimator : Stacked Ensemble\n",
            "Model Key: StackedEnsemble_BestOfFamily_1_AutoML_1_20241017_154637\n",
            "\n",
            "\n",
            "Model Summary for Stacked Ensemble: \n",
            "key                                        value\n",
            "-----------------------------------------  ----------------\n",
            "Stacking strategy                          cross_validation\n",
            "Number of base models (used / total)       6/6\n",
            "# GBM base models (used / total)           1/1\n",
            "# XGBoost base models (used / total)       1/1\n",
            "# GLM base models (used / total)           1/1\n",
            "# DRF base models (used / total)           2/2\n",
            "# DeepLearning base models (used / total)  1/1\n",
            "Metalearner algorithm                      GLM\n",
            "Metalearner fold assignment scheme         Random\n",
            "Metalearner nfolds                         5\n",
            "Metalearner fold_column\n",
            "Custom metalearner hyperparameters         None\n",
            "\n",
            "ModelMetricsRegressionGLM: stackedensemble\n",
            "** Reported on train data. **\n",
            "\n",
            "MSE: 0.2198513453142565\n",
            "RMSE: 0.46888308277677976\n",
            "MAE: 0.3541589102372423\n",
            "RMSLE: 0.23774360807516007\n",
            "Mean Residual Deviance: 0.2198513453142565\n",
            "R^2: 0.8552641481414361\n",
            "Null degrees of freedom: 296\n",
            "Residual degrees of freedom: 290\n",
            "Null deviance: 451.1380471380472\n",
            "Residual deviance: 65.29584955833418\n",
            "AIC: 408.9528004748774\n",
            "\n",
            "ModelMetricsRegressionGLM: stackedensemble\n",
            "** Reported on cross-validation data. **\n",
            "\n",
            "MSE: 0.7271875308951026\n",
            "RMSE: 0.8527529131554478\n",
            "MAE: 0.6320111425410018\n",
            "RMSLE: 0.39760653097736365\n",
            "Mean Residual Deviance: 0.7271875308951026\n",
            "R^2: 0.521266942467041\n",
            "Null degrees of freedom: 296\n",
            "Residual degrees of freedom: 291\n",
            "Null deviance: 452.6741982186475\n",
            "Residual deviance: 215.97469667584545\n",
            "AIC: 762.2339364726403\n",
            "\n",
            "Cross-Validation Metrics Summary: \n",
            "                        mean      sd         cv_1_valid    cv_2_valid    cv_3_valid    cv_4_valid    cv_5_valid\n",
            "----------------------  --------  ---------  ------------  ------------  ------------  ------------  ------------\n",
            "aic                     162.127   10.6274    157.757       170.576       167.434       145.411       169.456\n",
            "loglikelihood           0         0          0             0             0             0             0\n",
            "mae                     0.631574  0.0574241  0.698747      0.615361      0.68414       0.567701      0.591924\n",
            "mean_residual_deviance  0.72187   0.154587   0.882079      0.568527      0.894963      0.64315       0.620631\n",
            "mse                     0.72187   0.154587   0.882079      0.568527      0.894963      0.64315       0.620631\n",
            "null_deviance           90.5348   14.0003    94.8308       84.5521       105.832       69.5318       97.9273\n",
            "r2                      0.526945  0.0348341  0.507012      0.535453      0.513431      0.49531       0.583518\n",
            "residual_deviance       42.2988   6.52132    46.7502       38.6599       51.0129       34.7301       40.341\n",
            "rmse                    0.845798  0.0901081  0.939191      0.754008      0.946025      0.801967      0.787802\n",
            "rmsle                   0.395546  0.0243589  0.4247        0.408451      0.402151      0.379255      0.363174\n"
          ]
        }
      ]
    },
    {
      "cell_type": "code",
      "source": [
        "from sklearn.metrics import classification_report\n",
        "\n",
        "# Predict on the test set\n",
        "y_pred = tpot.predict(X_test)\n",
        "\n",
        "# Print a detailed classification report\n",
        "print(classification_report(y_test, y_pred))\n"
      ],
      "metadata": {
        "colab": {
          "base_uri": "https://localhost:8080/"
        },
        "id": "wUAKwZI0ET6H",
        "outputId": "4da5bc12-65d1-4ab7-d9f2-18466a501d3c"
      },
      "execution_count": 20,
      "outputs": [
        {
          "output_type": "stream",
          "name": "stdout",
          "text": [
            "              precision    recall  f1-score   support\n",
            "\n",
            "           0       0.91      0.89      0.90        36\n",
            "           1       0.84      0.88      0.86        24\n",
            "\n",
            "    accuracy                           0.88        60\n",
            "   macro avg       0.88      0.88      0.88        60\n",
            "weighted avg       0.88      0.88      0.88        60\n",
            "\n"
          ]
        },
        {
          "output_type": "stream",
          "name": "stderr",
          "text": [
            "/usr/local/lib/python3.10/dist-packages/sklearn/base.py:493: UserWarning: X does not have valid feature names, but GaussianNB was fitted with feature names\n",
            "  warnings.warn(\n",
            "/usr/local/lib/python3.10/dist-packages/sklearn/base.py:493: UserWarning: X does not have valid feature names, but GaussianNB was fitted with feature names\n",
            "  warnings.warn(\n"
          ]
        }
      ]
    },
    {
      "cell_type": "code",
      "source": [
        "# Predict on the test data using H2O.ai's best model\n",
        "pred = aml.leader.predict(data_h2o)\n",
        "print(pred.head())\n"
      ],
      "metadata": {
        "colab": {
          "base_uri": "https://localhost:8080/"
        },
        "id": "B92wW3NvEiv-",
        "outputId": "c107f5a1-3950-4495-b297-4e29c7db93fa"
      },
      "execution_count": 21,
      "outputs": [
        {
          "output_type": "stream",
          "name": "stdout",
          "text": [
            "stackedensemble prediction progress: |███████████████████████████████████████████| (done) 100%\n",
            "  predict\n",
            "0.335389\n",
            "2.2852\n",
            "2.13812\n",
            "0.587785\n",
            "0.0425415\n",
            "0.0221973\n",
            "2.52481\n",
            "0.0657148\n",
            "1.9679\n",
            "1.64805\n",
            "[10 rows x 1 column]\n",
            "\n"
          ]
        }
      ]
    },
    {
      "cell_type": "code",
      "source": [
        "h2o.shutdown(prompt=False)"
      ],
      "metadata": {
        "colab": {
          "base_uri": "https://localhost:8080/"
        },
        "id": "CpbS2JPEEm-U",
        "outputId": "c883af4b-9d71-4fa1-958c-a6e66525d4d9"
      },
      "execution_count": 22,
      "outputs": [
        {
          "output_type": "stream",
          "name": "stdout",
          "text": [
            "H2O session _sid_963e closed.\n"
          ]
        },
        {
          "output_type": "stream",
          "name": "stderr",
          "text": [
            "<ipython-input-22-02ff3806b010>:1: H2ODeprecationWarning: Deprecated, use ``h2o.cluster().shutdown()``.\n",
            "  h2o.shutdown(prompt=False)\n"
          ]
        }
      ]
    }
  ]
}